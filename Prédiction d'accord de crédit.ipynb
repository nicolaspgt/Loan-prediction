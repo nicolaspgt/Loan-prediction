{
 "cells": [
  {
   "cell_type": "markdown",
   "metadata": {
    "ExecuteTime": {
     "end_time": "2021-02-05T20:43:15.170490Z",
     "start_time": "2021-02-05T20:43:15.163055Z"
    }
   },
   "source": [
    "<h1> Prédiction de crédit"
   ]
  },
  {
   "cell_type": "markdown",
   "metadata": {},
   "source": [
    "Nicolas Pogeant"
   ]
  },
  {
   "cell_type": "markdown",
   "metadata": {},
   "source": [
    "---"
   ]
  },
  {
   "cell_type": "markdown",
   "metadata": {},
   "source": [
    "## 1. Introduction et données\n",
    "\n",
    "L'idée de ce projet est de réussir à comprendre le profil des individus tendant à se voir refuser un crédit et de savoir si cela est possible à partir du jeu de données utilisé.\n",
    "\n",
    "Pour cela, les données choisies sont celles provennant d'un [dataset d'Analytics Vidhya](https://datahack.analyticsvidhya.com/contest/practice-problem-loan-prediction-iii/) portant sur des informations concernant des individus ayant oui ou non été accepté dans leur demande de crédit.\n",
    "\n",
    "On va chercher à rendre compte de ce qui caractérise le mieux un refus ou un accord de crédit mais surtout de prédire si un individu sera plus probable d'en obtenir un ou non.\n",
    "\n",
    "### Table des matières \n",
    "\n",
    "- [1. Introduction et données](#1.-Introduction-et-données)\n",
    "    - [1.1 Récupération de la base de données](#1.1-Récupération-de-la-base-de-données)\n",
    "    - [1.2 Observation des données](#1.2-Observation-des-données)\n",
    "    - [1.3 Premier traitement des données](#1.3-Premier-traitement-des-données)\n",
    "    \n",
    "\n",
    "- [2. Analyse Statistique](#2.-Analyse-Statistique)\n",
    "    - [2.1 A l'aide de tableaux croisés](#2.1-A-l'aide-de-tableaux-croisés)\n",
    "    - [2.2 En réalisant une analyse univariée](#2.2-En-réalisant-une-analyse-univariée)\n",
    "    - [2.3 Data processing](#2.3-Data-processing)\n",
    "    \n",
    "\n",
    "- [3. Prédiction et modélisation](#3.-Prédiction-et-modélisation)\n",
    "    - [3.1 Modélisation du problème à partir d'une régression logistique](#3.1-Modélisation-du-problème-à-partir-d'une-régression-logistique])\n",
    "    - [3.2 Modification des données d'apprentissage afin d'améliorer le modèle](#3.2-Modification-des-données-d'apprentissage-afin-d'améliorer-le-modèle)"
   ]
  },
  {
   "cell_type": "markdown",
   "metadata": {},
   "source": [
    "### Les librairies utilisées"
   ]
  },
  {
   "cell_type": "markdown",
   "metadata": {
    "ExecuteTime": {
     "end_time": "2021-02-02T14:54:33.472828Z",
     "start_time": "2021-02-02T14:54:33.464821Z"
    }
   },
   "source": [
    "Commençons par importer toutes les bibliotheques dont nous avons besoin dans le notebook.\n",
    "\n",
    "- [Numpy](www.numpy.org) - Le paquet fondamental pour le calcul scientifique avec Python.\n",
    "- [StatsModels](http://www.statsmodels.org/stable/index.html) - Récolte de nombreux modèles statistiques.\n",
    "- [Pandas](https://pandas.pydata.org) - Tableaux numériques permettant de manipuler facilement les données.\n",
    "- [Matplotlib](http://matplotlib.org) - Outils pour le traçage en 2D/3D et pour la réalisation d'animations.\n",
    "- [Seaborn](https://seaborn.pydata.org/index.html) - Interface de haut niveau pour l'affichage de statistiques.\n",
    "- [Scikit-Learn](https://scikit-learn.org) - Bibliothèque libre Python destinée à l'apprentissage automatique.\n",
    "- [Statsmodels](https://www.statsmodels.org) - Package Python qui permet aux utilisateurs d'explorer des données, d'estimer des modèles statistiques et d'effectuer des tests statistiques.\n"
   ]
  },
  {
   "cell_type": "code",
   "execution_count": 1,
   "metadata": {
    "ExecuteTime": {
     "end_time": "2021-02-05T20:29:00.662840Z",
     "start_time": "2021-02-05T20:28:55.052907Z"
    }
   },
   "outputs": [],
   "source": [
    "#Librairies d'analyse\n",
    "import pandas as pd\n",
    "import numpy as np\n",
    "import matplotlib.pyplot as plt\n",
    "import seaborn as sns\n",
    "%matplotlib inline\n",
    "\n",
    "#Librairies de Machine Learning\n",
    "from sklearn.preprocessing import LabelEncoder\n",
    "from sklearn.model_selection import train_test_split\n",
    "from sklearn import metrics\n",
    "from sklearn.metrics import confusion_matrix\n",
    "from sklearn.metrics import classification_report\n",
    "from sklearn.metrics import accuracy_score\n",
    "from sklearn.linear_model import LogisticRegression\n",
    "import statsmodels.api as sm\n",
    "\n",
    "import warnings; warnings.simplefilter('ignore')"
   ]
  },
  {
   "cell_type": "markdown",
   "metadata": {},
   "source": [
    "### 1.1. Récupération des données"
   ]
  },
  {
   "cell_type": "markdown",
   "metadata": {
    "ExecuteTime": {
     "end_time": "2021-02-02T14:58:22.544893Z",
     "start_time": "2021-02-02T14:58:22.539516Z"
    }
   },
   "source": [
    "On commence par charger les données du fichier `loan_data_set.csv` dans un **data frame** par la méthode `read_csv()`."
   ]
  },
  {
   "cell_type": "code",
   "execution_count": 2,
   "metadata": {
    "ExecuteTime": {
     "end_time": "2021-02-05T20:29:00.678108Z",
     "start_time": "2021-02-05T20:29:00.665582Z"
    }
   },
   "outputs": [
    {
     "data": {
      "text/plain": [
       "(614, 13)"
      ]
     },
     "execution_count": 2,
     "metadata": {},
     "output_type": "execute_result"
    }
   ],
   "source": [
    "#Import du dataset \n",
    "credit = pd.read_csv(\"loan_data_set.csv\")\n",
    "credit.shape"
   ]
  },
  {
   "cell_type": "markdown",
   "metadata": {},
   "source": [
    "Le jeu de données comprend **13 colonnes** et **614 lignes**.\n",
    "\n",
    "Regardons comment se présente le jeu de données, les différentes colonnes, à quoi correspondent les variables."
   ]
  },
  {
   "cell_type": "code",
   "execution_count": 3,
   "metadata": {
    "ExecuteTime": {
     "end_time": "2021-02-05T20:29:00.697796Z",
     "start_time": "2021-02-05T20:29:00.680862Z"
    },
    "scrolled": true
   },
   "outputs": [
    {
     "data": {
      "text/html": [
       "<div>\n",
       "<style scoped>\n",
       "    .dataframe tbody tr th:only-of-type {\n",
       "        vertical-align: middle;\n",
       "    }\n",
       "\n",
       "    .dataframe tbody tr th {\n",
       "        vertical-align: top;\n",
       "    }\n",
       "\n",
       "    .dataframe thead th {\n",
       "        text-align: right;\n",
       "    }\n",
       "</style>\n",
       "<table border=\"1\" class=\"dataframe\">\n",
       "  <thead>\n",
       "    <tr style=\"text-align: right;\">\n",
       "      <th></th>\n",
       "      <th>Loan_ID</th>\n",
       "      <th>Gender</th>\n",
       "      <th>Married</th>\n",
       "      <th>Dependents</th>\n",
       "      <th>Education</th>\n",
       "      <th>Self_Employed</th>\n",
       "      <th>ApplicantIncome</th>\n",
       "      <th>CoapplicantIncome</th>\n",
       "      <th>LoanAmount</th>\n",
       "      <th>Loan_Amount_Term</th>\n",
       "      <th>Credit_History</th>\n",
       "      <th>Property_Area</th>\n",
       "      <th>Loan_Status</th>\n",
       "    </tr>\n",
       "  </thead>\n",
       "  <tbody>\n",
       "    <tr>\n",
       "      <th>161</th>\n",
       "      <td>LP001562</td>\n",
       "      <td>Male</td>\n",
       "      <td>Yes</td>\n",
       "      <td>0</td>\n",
       "      <td>Graduate</td>\n",
       "      <td>No</td>\n",
       "      <td>7933</td>\n",
       "      <td>0.0</td>\n",
       "      <td>275.0</td>\n",
       "      <td>360.0</td>\n",
       "      <td>1.0</td>\n",
       "      <td>Urban</td>\n",
       "      <td>N</td>\n",
       "    </tr>\n",
       "    <tr>\n",
       "      <th>300</th>\n",
       "      <td>LP001964</td>\n",
       "      <td>Male</td>\n",
       "      <td>Yes</td>\n",
       "      <td>0</td>\n",
       "      <td>Not Graduate</td>\n",
       "      <td>No</td>\n",
       "      <td>1800</td>\n",
       "      <td>2934.0</td>\n",
       "      <td>93.0</td>\n",
       "      <td>360.0</td>\n",
       "      <td>0.0</td>\n",
       "      <td>Urban</td>\n",
       "      <td>N</td>\n",
       "    </tr>\n",
       "    <tr>\n",
       "      <th>42</th>\n",
       "      <td>LP001123</td>\n",
       "      <td>Male</td>\n",
       "      <td>Yes</td>\n",
       "      <td>0</td>\n",
       "      <td>Graduate</td>\n",
       "      <td>No</td>\n",
       "      <td>2400</td>\n",
       "      <td>0.0</td>\n",
       "      <td>75.0</td>\n",
       "      <td>360.0</td>\n",
       "      <td>NaN</td>\n",
       "      <td>Urban</td>\n",
       "      <td>Y</td>\n",
       "    </tr>\n",
       "  </tbody>\n",
       "</table>\n",
       "</div>"
      ],
      "text/plain": [
       "      Loan_ID Gender Married Dependents     Education Self_Employed  \\\n",
       "161  LP001562   Male     Yes          0      Graduate            No   \n",
       "300  LP001964   Male     Yes          0  Not Graduate            No   \n",
       "42   LP001123   Male     Yes          0      Graduate            No   \n",
       "\n",
       "     ApplicantIncome  CoapplicantIncome  LoanAmount  Loan_Amount_Term  \\\n",
       "161             7933                0.0       275.0             360.0   \n",
       "300             1800             2934.0        93.0             360.0   \n",
       "42              2400                0.0        75.0             360.0   \n",
       "\n",
       "     Credit_History Property_Area Loan_Status  \n",
       "161             1.0         Urban           N  \n",
       "300             0.0         Urban           N  \n",
       "42              NaN         Urban           Y  "
      ]
     },
     "execution_count": 3,
     "metadata": {},
     "output_type": "execute_result"
    }
   ],
   "source": [
    "#Point de vue aléatoire sur le jeu de données\n",
    "credit.sample(3)"
   ]
  },
  {
   "cell_type": "code",
   "execution_count": 4,
   "metadata": {
    "ExecuteTime": {
     "end_time": "2021-02-05T20:29:00.704813Z",
     "start_time": "2021-02-05T20:29:00.700824Z"
    }
   },
   "outputs": [
    {
     "name": "stdout",
     "output_type": "stream",
     "text": [
      "Les colonnes sont les suivantes :\n",
      " - Loan_ID\n",
      " - Gender\n",
      " - Married\n",
      " - Dependents\n",
      " - Education\n",
      " - Self_Employed\n",
      " - ApplicantIncome\n",
      " - CoapplicantIncome\n",
      " - LoanAmount\n",
      " - Loan_Amount_Term\n",
      " - Credit_History\n",
      " - Property_Area\n",
      " - Loan_Status\n"
     ]
    }
   ],
   "source": [
    "#Les différentes colonnes \n",
    "print(\"Les colonnes sont les suivantes :\", *credit.columns, sep='\\n - ')"
   ]
  },
  {
   "cell_type": "code",
   "execution_count": 5,
   "metadata": {
    "ExecuteTime": {
     "end_time": "2021-02-05T20:29:00.714933Z",
     "start_time": "2021-02-05T20:29:00.707653Z"
    }
   },
   "outputs": [
    {
     "name": "stdout",
     "output_type": "stream",
     "text": [
      "['Male' 'Female' nan]\n",
      "['No' 'Yes' nan]\n",
      "['0' '1' '2' '3+' nan]\n",
      "['Graduate' 'Not Graduate']\n",
      "['No' 'Yes' nan]\n",
      "[360. 120. 240.  nan 180.  60. 300. 480.  36.  84.  12.]\n",
      "[ 1.  0. nan]\n",
      "['Urban' 'Rural' 'Semiurban']\n",
      "['Y' 'N']\n"
     ]
    }
   ],
   "source": [
    "#Obtenir les valeurs uniques des colonnes pertinentes (hors tranche de valeur énorme)\n",
    "colonnes = ('Gender',  'Married',  'Dependents',  'Education',  'Self_Employed',  \n",
    "          'Loan_Amount_Term',  'Credit_History',  'Property_Area',  'Loan_Status' )\n",
    "\n",
    "#On met de coté les NaN pour le moment\n",
    "for col in colonnes:\n",
    "    unique = credit[col].unique()\n",
    "    print(unique, sep='\\n')"
   ]
  },
  {
   "cell_type": "markdown",
   "metadata": {},
   "source": [
    "Le détail des variables est le suivant:\n",
    "\n",
    "- **Loan ID** correspond à l'ID de la demande de prêt.<br>\n",
    "- **Gender*** signifie le genre, \"Female\" ou \"Male\".<br>\n",
    "- **Married** correspond à la donnée de mariage et prend donc deux valeurs possibles : Oui ou Non.<br>\n",
    "- **Dependents** est égal au nombre de personnes à charge que l'individu à, il peut en avoir de 0 à 3+.\n",
    "- **Education** correspond au niveau d'éducation, Graduate ou Not Graduate.\n",
    "- **Self_Employed** signifie si la personne est un indépendant dans le monde du travail ou non, valeur Yes, No.\n",
    "- **Loan_Amount_Term** correpsond à le durée du prêt, il prend plusieurs valeurs, de 12 mois à 320 mois, uniquement dans la table de 12 (en année par conséquent).\n",
    "- **Credit_History** admet un crédit obtenu dans le passé, valeur binaire 1 ou 0.\n",
    "- **Property_Area** prend les valeurs Urban, Rural et Semiurban pour définir la zone de logement de la personne.\n",
    "- **Loan_Status** correspond à l'acceptation ou au refus de la demande de prêt, Yes ou No, il constituera la variable dépendante ou expliquée."
   ]
  },
  {
   "cell_type": "markdown",
   "metadata": {},
   "source": [
    "### 1.2. Observation des données\n",
    "Il s'agit de comprendre les données et de les préparer afin d'élaborer un modèle performant."
   ]
  },
  {
   "cell_type": "code",
   "execution_count": 6,
   "metadata": {
    "ExecuteTime": {
     "end_time": "2021-02-05T20:29:00.731888Z",
     "start_time": "2021-02-05T20:29:00.717342Z"
    },
    "scrolled": true
   },
   "outputs": [
    {
     "name": "stdout",
     "output_type": "stream",
     "text": [
      "<class 'pandas.core.frame.DataFrame'>\n",
      "RangeIndex: 614 entries, 0 to 613\n",
      "Data columns (total 13 columns):\n",
      " #   Column             Non-Null Count  Dtype  \n",
      "---  ------             --------------  -----  \n",
      " 0   Loan_ID            614 non-null    object \n",
      " 1   Gender             601 non-null    object \n",
      " 2   Married            611 non-null    object \n",
      " 3   Dependents         599 non-null    object \n",
      " 4   Education          614 non-null    object \n",
      " 5   Self_Employed      582 non-null    object \n",
      " 6   ApplicantIncome    614 non-null    int64  \n",
      " 7   CoapplicantIncome  614 non-null    float64\n",
      " 8   LoanAmount         592 non-null    float64\n",
      " 9   Loan_Amount_Term   600 non-null    float64\n",
      " 10  Credit_History     564 non-null    float64\n",
      " 11  Property_Area      614 non-null    object \n",
      " 12  Loan_Status        614 non-null    object \n",
      "dtypes: float64(4), int64(1), object(8)\n",
      "memory usage: 62.5+ KB\n"
     ]
    }
   ],
   "source": [
    "#Information concernant le dataset\n",
    "credit.info()"
   ]
  },
  {
   "cell_type": "markdown",
   "metadata": {},
   "source": [
    "Il y a donc effectivement **13 colonnes** de types différents (quantitatives ou qualitatives). Le fait que les types de variables soient différents impliquera par la suite de les rendre analysables en transformant les variables dites catégorielles notamment.\n",
    "\n",
    "On constate aussi que l'entièreté des valeurs de certaines colonnes n'est pas égales au nombre total de lignes, ce qui signifie qu'il y a des valeurs manquantes comme nous l'avons aperçue dans les valeurs unique précédemment. "
   ]
  },
  {
   "cell_type": "code",
   "execution_count": 7,
   "metadata": {
    "ExecuteTime": {
     "end_time": "2021-02-05T20:29:03.904394Z",
     "start_time": "2021-02-05T20:29:00.733940Z"
    },
    "scrolled": true
   },
   "outputs": [
    {
     "data": {
      "text/plain": [
       "<seaborn.axisgrid.PairGrid at 0x7fced19a4b20>"
      ]
     },
     "execution_count": 7,
     "metadata": {},
     "output_type": "execute_result"
    },
    {
     "data": {
      "image/png": "[encoded data removed]",
      "text/plain": [
       "<Figure size 900x900 with 30 Axes>"
      ]
     },
     "metadata": {
      "needs_background": "light"
     },
     "output_type": "display_data"
    }
   ],
   "source": [
    "#Distribution des données\n",
    "sns.pairplot(credit)"
   ]
  },
  {
   "cell_type": "markdown",
   "metadata": {},
   "source": [
    "Ce graphique à pour but de mettre en avant la distribution des variables par rapport à elle même et par rapport aux autres. On constate tout de même qu'il est **difficile d'observer de la linéarité entre les variables** notamment par la présence de beaucoup de variables catégorielles.\n",
    "\n",
    "On observe qu'il y a **beaucoup plus d'individu avec un historique de crédit égal à 1 plutot qu'à 0**. Cette variable sera importante dans la suite de l'analyse."
   ]
  },
  {
   "cell_type": "markdown",
   "metadata": {},
   "source": [
    "Regardons plus précisément la distribution à l'intérieur de certaines colonnes."
   ]
  },
  {
   "cell_type": "code",
   "execution_count": 8,
   "metadata": {
    "ExecuteTime": {
     "end_time": "2021-02-05T20:29:03.913023Z",
     "start_time": "2021-02-05T20:29:03.908156Z"
    }
   },
   "outputs": [
    {
     "name": "stdout",
     "output_type": "stream",
     "text": [
      "Proportion d'hommes: 81.36 %\n",
      "Proportion de femmes: 18.64 %\n"
     ]
    }
   ],
   "source": [
    "#Part d'hommes et de femmes\n",
    "hommes = credit['Gender'][credit['Gender']=='Male'].count() / credit['Gender'].count()\n",
    "femmes = credit['Gender'][credit['Gender']=='Female'].count() / credit['Gender'].count()\n",
    "print('Proportion d\\'hommes: {:2.2f} %'.format(hommes*100))\n",
    "print('Proportion de femmes: {:2.2f} %'.format(femmes*100))"
   ]
  },
  {
   "cell_type": "code",
   "execution_count": 9,
   "metadata": {
    "ExecuteTime": {
     "end_time": "2021-02-05T20:29:03.919642Z",
     "start_time": "2021-02-05T20:29:03.915942Z"
    }
   },
   "outputs": [
    {
     "name": "stdout",
     "output_type": "stream",
     "text": [
      "Proportion de refus: 31.27 %\n"
     ]
    }
   ],
   "source": [
    "#Part de crédits refusés\n",
    "no = credit['Loan_Status'][credit['Loan_Status']=='N'].count() / credit['Loan_Status'].count()\n",
    "print('Proportion de refus: {:2.2f} %'.format(no*100))"
   ]
  },
  {
   "cell_type": "code",
   "execution_count": 10,
   "metadata": {
    "ExecuteTime": {
     "end_time": "2021-02-05T20:29:03.926146Z",
     "start_time": "2021-02-05T20:29:03.921471Z"
    }
   },
   "outputs": [
    {
     "name": "stdout",
     "output_type": "stream",
     "text": [
      "Historique de crédit: 0.98 (accepté) et 0.54 (refusé)\n"
     ]
    }
   ],
   "source": [
    "#Credit moyen par statut\n",
    "credit_moyen = credit.groupby('Loan_Status')['Credit_History'].mean()\n",
    "print('Historique de crédit: {:2.2f} (accepté) et {:2.2f} (refusé)'.format(credit_moyen[1],credit_moyen[0]))"
   ]
  },
  {
   "cell_type": "code",
   "execution_count": 11,
   "metadata": {
    "ExecuteTime": {
     "end_time": "2021-02-05T20:29:04.040763Z",
     "start_time": "2021-02-05T20:29:03.928303Z"
    }
   },
   "outputs": [
    {
     "data": {
      "image/png": "[encoded data removed]",
      "text/plain": [
       "<Figure size 432x288 with 1 Axes>"
      ]
     },
     "metadata": {
      "needs_background": "light"
     },
     "output_type": "display_data"
    }
   ],
   "source": [
    "#Nombre de statuts selon l'acceptation ou le refus\n",
    "sns.countplot(x='Loan_Status', data=credit, palette='hls')\n",
    "plt.show()"
   ]
  },
  {
   "cell_type": "markdown",
   "metadata": {},
   "source": [
    "- Nous avons pu constater que la grande majorité des individus du dataset correspond à des **hommes**.\n",
    "- La part des refus dans le total des dossiers est égal à **31,27**% ce qui tend à exprimer que les accords sont plus probables que l'inverse, dans ce champs de données.\n",
    "- Finalement, nous pouvons constater l'importance de l'historique de crédit dans la décision du dossier. En effet, les personnes avec un prêt accordé **ont en moyenne déjà eu un prêt accepté (0,98)**, tandis que les individus s'étant vu refuser leur prêt ont tendance à avoir, **soit aucun crédit, soit un crédit (la valeur moyenne est 0,54, la répartition est plutot bien distribuée)**. Par conséquent, avoir un historique de crédit non vide est presque obligatoire pour obtenir un nouveau prêt. Cependant, cela ne garantit pas l'accord. "
   ]
  },
  {
   "cell_type": "markdown",
   "metadata": {},
   "source": [
    "### 1.3. Premier traitement des données"
   ]
  },
  {
   "cell_type": "markdown",
   "metadata": {},
   "source": [
    "Il s'agit maintenant de gérer les données afin de les rendre utilisables dans les modèles qui suivront.\n",
    "\n",
    "Tout d'abord, repérons les variables catégorielles à traiter."
   ]
  },
  {
   "cell_type": "code",
   "execution_count": 12,
   "metadata": {
    "ExecuteTime": {
     "end_time": "2021-02-05T20:29:04.045801Z",
     "start_time": "2021-02-05T20:29:04.042506Z"
    }
   },
   "outputs": [
    {
     "name": "stdout",
     "output_type": "stream",
     "text": [
      "Variables categorielles: ['Gender', 'Married', 'Education', 'Dependents', 'Self_Employed', 'Credit_History', 'Property_Area']\n"
     ]
    }
   ],
   "source": [
    "#Variables catégorielles à traiter\n",
    "variables_categorielles = None\n",
    "variables_categorielles = ['Gender', 'Married', 'Education', 'Dependents', 'Self_Employed', \n",
    "                          'Credit_History','Property_Area']\n",
    "print('Variables categorielles:', variables_categorielles)"
   ]
  },
  {
   "cell_type": "markdown",
   "metadata": {},
   "source": [
    "Il y en a 7 à traiter, parfois de manière différentes étant donné leur valeur.\n",
    "\n",
    "Maintenant, regardons les valeurs nulles dans le dataset entier."
   ]
  },
  {
   "cell_type": "code",
   "execution_count": 13,
   "metadata": {
    "ExecuteTime": {
     "end_time": "2021-02-05T20:29:04.053694Z",
     "start_time": "2021-02-05T20:29:04.047790Z"
    },
    "scrolled": true
   },
   "outputs": [
    {
     "data": {
      "text/plain": [
       "Loan_ID               0\n",
       "Gender               13\n",
       "Married               3\n",
       "Dependents           15\n",
       "Education             0\n",
       "Self_Employed        32\n",
       "ApplicantIncome       0\n",
       "CoapplicantIncome     0\n",
       "LoanAmount           22\n",
       "Loan_Amount_Term     14\n",
       "Credit_History       50\n",
       "Property_Area         0\n",
       "Loan_Status           0\n",
       "dtype: int64"
      ]
     },
     "execution_count": 13,
     "metadata": {},
     "output_type": "execute_result"
    }
   ],
   "source": [
    "#Valeurs manquantes\n",
    "credit.isnull().sum()"
   ]
  },
  {
   "cell_type": "markdown",
   "metadata": {},
   "source": [
    "Les valeurs manquantes ou nulles sont assez conséquentes dans beaucoup de colonnes, pour gérer cela, la fonction \n",
    "```fillna``` gère très bien le problème. Il suffit de spécifier par quoi doit être remplacé la valeur manquante (dans notre cas concernant les montants des prêts, par la médiane).\n",
    "En ce qui concerne les autres valeurs manquantes, ```dropna``` se charge de supprimer la ligne complète si une valeur manquante est présente."
   ]
  },
  {
   "cell_type": "code",
   "execution_count": 14,
   "metadata": {
    "ExecuteTime": {
     "end_time": "2021-02-05T20:29:04.065051Z",
     "start_time": "2021-02-05T20:29:04.055916Z"
    }
   },
   "outputs": [
    {
     "data": {
      "text/plain": [
       "Loan_ID              0\n",
       "Gender               0\n",
       "Married              0\n",
       "Dependents           0\n",
       "Education            0\n",
       "Self_Employed        0\n",
       "ApplicantIncome      0\n",
       "CoapplicantIncome    0\n",
       "LoanAmount           0\n",
       "Loan_Amount_Term     0\n",
       "Credit_History       0\n",
       "Property_Area        0\n",
       "Loan_Status          0\n",
       "dtype: int64"
      ]
     },
     "execution_count": 14,
     "metadata": {},
     "output_type": "execute_result"
    }
   ],
   "source": [
    "#On remplace les valeurs manquantes de la colonne LoanAmount par la médiane de la colonne\n",
    "credit['LoanAmount'].fillna((credit['LoanAmount'].median()), inplace = True)\n",
    "#On supprime toutes les autres valeurs manquantes\n",
    "credit.dropna(inplace=True)\n",
    "\n",
    "credit.isnull().sum()"
   ]
  },
  {
   "cell_type": "markdown",
   "metadata": {},
   "source": [
    "Le dataset est maintenant sans aucunes valeurs manquantes ce qui nous permet de faire un début d'analyse "
   ]
  },
  {
   "cell_type": "code",
   "execution_count": 15,
   "metadata": {
    "ExecuteTime": {
     "end_time": "2021-02-05T20:29:04.070420Z",
     "start_time": "2021-02-05T20:29:04.066866Z"
    }
   },
   "outputs": [
    {
     "data": {
      "text/plain": [
       "(499, 13)"
      ]
     },
     "execution_count": 15,
     "metadata": {},
     "output_type": "execute_result"
    }
   ],
   "source": [
    "#Nouvelles caractéristiques du dataset\n",
    "credit.shape"
   ]
  },
  {
   "cell_type": "code",
   "execution_count": 16,
   "metadata": {
    "ExecuteTime": {
     "end_time": "2021-02-05T20:29:04.078219Z",
     "start_time": "2021-02-05T20:29:04.072152Z"
    },
    "scrolled": true
   },
   "outputs": [
    {
     "data": {
      "text/plain": [
       "0      360\n",
       "1      360\n",
       "2      360\n",
       "3      360\n",
       "4      360\n",
       "      ... \n",
       "609    360\n",
       "610    180\n",
       "611    360\n",
       "612    360\n",
       "613    360\n",
       "Name: Loan_Amount_Term, Length: 499, dtype: int64"
      ]
     },
     "execution_count": 16,
     "metadata": {},
     "output_type": "execute_result"
    }
   ],
   "source": [
    "#Changement du type des valeurs de l'historique de crédit et du temps des prêts en entier\n",
    "credit.Credit_History = credit.Credit_History.astype(int)\n",
    "credit.Loan_Amount_Term = credit.Loan_Amount_Term.astype(int)\n",
    "credit.Loan_Amount_Term"
   ]
  },
  {
   "cell_type": "markdown",
   "metadata": {},
   "source": [
    "---------"
   ]
  },
  {
   "cell_type": "markdown",
   "metadata": {},
   "source": [
    "## 2. Analyse Statistique"
   ]
  },
  {
   "cell_type": "markdown",
   "metadata": {},
   "source": [
    "Passons maintenant à une analyse plus précise des données de crédit concernant les **499 dossiers** à l'aide premièrement de tableaux croisés pour mettre en relation les différentes variables puis en se concentrant sur les variables elles mêmes."
   ]
  },
  {
   "cell_type": "markdown",
   "metadata": {},
   "source": [
    "### 2.1. A l'aide de tableaux croisés"
   ]
  },
  {
   "cell_type": "markdown",
   "metadata": {},
   "source": [
    "Les tableaux croisés permettent comme leur nom l'indique, de croiser des données pour en sortir des résultats plus ou moins intéressants.\n",
    "\n",
    "Commençont par créer un tableaux croisé avec la fonction ```crosstab```de la librairie pandas. On choisit une normalisation par colonnes pour améliorer les résultats."
   ]
  },
  {
   "cell_type": "code",
   "execution_count": 17,
   "metadata": {
    "ExecuteTime": {
     "end_time": "2021-02-05T20:29:04.096784Z",
     "start_time": "2021-02-05T20:29:04.079969Z"
    }
   },
   "outputs": [
    {
     "data": {
      "text/html": [
       "<div>\n",
       "<style scoped>\n",
       "    .dataframe tbody tr th:only-of-type {\n",
       "        vertical-align: middle;\n",
       "    }\n",
       "\n",
       "    .dataframe tbody tr th {\n",
       "        vertical-align: top;\n",
       "    }\n",
       "\n",
       "    .dataframe thead th {\n",
       "        text-align: right;\n",
       "    }\n",
       "</style>\n",
       "<table border=\"1\" class=\"dataframe\">\n",
       "  <thead>\n",
       "    <tr style=\"text-align: right;\">\n",
       "      <th>Married</th>\n",
       "      <th>No</th>\n",
       "      <th>Yes</th>\n",
       "    </tr>\n",
       "    <tr>\n",
       "      <th>Loan_Status</th>\n",
       "      <th></th>\n",
       "      <th></th>\n",
       "    </tr>\n",
       "  </thead>\n",
       "  <tbody>\n",
       "    <tr>\n",
       "      <th>N</th>\n",
       "      <td>0.382857</td>\n",
       "      <td>0.280864</td>\n",
       "    </tr>\n",
       "    <tr>\n",
       "      <th>Y</th>\n",
       "      <td>0.617143</td>\n",
       "      <td>0.719136</td>\n",
       "    </tr>\n",
       "  </tbody>\n",
       "</table>\n",
       "</div>"
      ],
      "text/plain": [
       "Married            No       Yes\n",
       "Loan_Status                    \n",
       "N            0.382857  0.280864\n",
       "Y            0.617143  0.719136"
      ]
     },
     "execution_count": 17,
     "metadata": {},
     "output_type": "execute_result"
    }
   ],
   "source": [
    "#Création d'un tableau croisé entre le statut du crédit et la notion de mariage des individus\n",
    "pd.crosstab(credit['Loan_Status'], credit.Married, normalize='columns')"
   ]
  },
  {
   "cell_type": "markdown",
   "metadata": {},
   "source": [
    "On observe une différence entre les individus mariés et non mariés lorsqu'il s'agit de l'accord du prêt. En effet, **71% des individus mariés se voient un prêt octroyé** tandis que seulement **61% des non mariés ont un accord**. Il faut retenir que le **fait d'être marié augmente les chances d'obtenir un prêt**, cela ne garantit pas forcément l'accord mais ne pas être marié rend les choses moins faciles, du point de vue statistique (les données sont normalisées pour rendre compte au mieux des écarts)."
   ]
  },
  {
   "cell_type": "markdown",
   "metadata": {},
   "source": [
    "Pour rendre l'analyse plus simple et plus belle, créer une fonction qui construira un tableau croisé et qui le sortira sous forme de matrice est une bonne idée. Ainsi, on utilise ```heatmap```de la librairie seaborn pour rendre le résultat plus agrable à regarder. <br>\n",
    "Le choix de la normalisation reste le même."
   ]
  },
  {
   "cell_type": "code",
   "execution_count": 18,
   "metadata": {
    "ExecuteTime": {
     "end_time": "2021-02-05T20:29:04.101934Z",
     "start_time": "2021-02-05T20:29:04.098900Z"
    }
   },
   "outputs": [],
   "source": [
    "#Fonction de création de heatmap\n",
    "def crossheat(col1, col2, color):\n",
    "    sns.heatmap(pd.crosstab(col1, col2, normalize='columns'),\n",
    "            cmap=color, annot=True, cbar=False)"
   ]
  },
  {
   "cell_type": "code",
   "execution_count": 19,
   "metadata": {
    "ExecuteTime": {
     "end_time": "2021-02-05T20:29:04.195992Z",
     "start_time": "2021-02-05T20:29:04.104375Z"
    }
   },
   "outputs": [
    {
     "data": {
      "image/png": "[encoded data removed]",
      "text/plain": [
       "<Figure size 432x288 with 1 Axes>"
      ]
     },
     "metadata": {
      "needs_background": "light"
     },
     "output_type": "display_data"
    }
   ],
   "source": [
    "#Statut du crédit et éducation\n",
    "crossheat(credit.Loan_Status, credit.Education, \"YlGnBu\")"
   ]
  },
  {
   "cell_type": "markdown",
   "metadata": {},
   "source": [
    "On constate que le type d'éducation a un impact plutot neutre sur le statut final du crédit même si l'on voit une différence entre être diplomé du supérieur et ne pas l'être. En effet, **70% des diplomés du supérieur ont eut un \"Oui\"** tandis que **les non diplomés ont 8 points de percentage de moins**."
   ]
  },
  {
   "cell_type": "code",
   "execution_count": 20,
   "metadata": {
    "ExecuteTime": {
     "end_time": "2021-02-05T20:29:04.284125Z",
     "start_time": "2021-02-05T20:29:04.197935Z"
    }
   },
   "outputs": [
    {
     "data": {
      "image/png": "[encoded data removed]",
      "text/plain": [
       "<Figure size 432x288 with 1 Axes>"
      ]
     },
     "metadata": {
      "needs_background": "light"
     },
     "output_type": "display_data"
    }
   ],
   "source": [
    "#Statut du crédit et historique de crédit\n",
    "crossheat(credit.Loan_Status, credit.Credit_History, \"Blues\")"
   ]
  },
  {
   "cell_type": "markdown",
   "metadata": {},
   "source": [
    "Concernant l'historique de crédit, on constate dans ce cas que si l'agent a contracté un crédit auparavant, **il aura beaucoup plus de chance d'obtenir un nouveau un crédit** et inversement pour quelqu'un qui n'en a pas déjà eu."
   ]
  },
  {
   "cell_type": "code",
   "execution_count": 21,
   "metadata": {
    "ExecuteTime": {
     "end_time": "2021-02-05T20:29:04.381983Z",
     "start_time": "2021-02-05T20:29:04.285922Z"
    }
   },
   "outputs": [
    {
     "data": {
      "image/png": "[encoded data removed]",
      "text/plain": [
       "<Figure size 432x288 with 1 Axes>"
      ]
     },
     "metadata": {
      "needs_background": "light"
     },
     "output_type": "display_data"
    }
   ],
   "source": [
    "#Statut du crédit et zone de logement\n",
    "crossheat(credit.Loan_Status, credit.Property_Area, \"BuPu\")"
   ]
  },
  {
   "cell_type": "markdown",
   "metadata": {},
   "source": [
    "Finalement, on observe que **les individus vivant en zone semi-urbaine ont plus de chance de se faire accepter leur dossier** que les individus vivant en zone rurale ou purement urbaine."
   ]
  },
  {
   "cell_type": "markdown",
   "metadata": {},
   "source": [
    "### 2.2. En réalisant une analyse univariée"
   ]
  },
  {
   "cell_type": "markdown",
   "metadata": {},
   "source": [
    "Le but est d'observer certaines variables pour en sortir des résultats intéressants. <br>\n",
    "Les ```boxplot``` et ```barplot``` de la librairie seaborn sont à la fois élégants et complets."
   ]
  },
  {
   "cell_type": "code",
   "execution_count": 22,
   "metadata": {
    "ExecuteTime": {
     "end_time": "2021-02-05T20:29:04.480472Z",
     "start_time": "2021-02-05T20:29:04.383670Z"
    }
   },
   "outputs": [
    {
     "data": {
      "text/plain": [
       "<AxesSubplot:>"
      ]
     },
     "execution_count": 22,
     "metadata": {},
     "output_type": "execute_result"
    },
    {
     "data": {
      "image/png": "[encoded data removed]",
      "text/plain": [
       "<Figure size 432x288 with 1 Axes>"
      ]
     },
     "metadata": {
      "needs_background": "light"
     },
     "output_type": "display_data"
    }
   ],
   "source": [
    "#Boxplot pour le revenu des agents\n",
    "sns.boxplot(data=credit[\"ApplicantIncome\"], orient='h')"
   ]
  },
  {
   "cell_type": "markdown",
   "metadata": {},
   "source": [
    "On constate **des valeurs extrêmes** (aux alentours de 80 000 dollars) qui pourraient nuire au bon fonctionnement du modèle, il faudrait par conséquent les supprimer. Cela permettrait aussi de mieux observer la distribution du revenu des individus."
   ]
  },
  {
   "cell_type": "code",
   "execution_count": 23,
   "metadata": {
    "ExecuteTime": {
     "end_time": "2021-02-05T20:29:04.568759Z",
     "start_time": "2021-02-05T20:29:04.486954Z"
    },
    "scrolled": true
   },
   "outputs": [
    {
     "data": {
      "text/plain": [
       "<AxesSubplot:>"
      ]
     },
     "execution_count": 23,
     "metadata": {},
     "output_type": "execute_result"
    },
    {
     "data": {
      "image/png": "[encoded data removed]",
      "text/plain": [
       "<Figure size 432x288 with 1 Axes>"
      ]
     },
     "metadata": {
      "needs_background": "light"
     },
     "output_type": "display_data"
    }
   ],
   "source": [
    "#Boxplot sans les valeurs extrêmes hautes\n",
    "credit[\"ApplicantIncome\"] = credit[credit[\"ApplicantIncome\"] < 30000 ].ApplicantIncome\n",
    "credit.dropna(inplace=True)\n",
    "sns.boxplot(data = credit[\"ApplicantIncome\"], orient='h')"
   ]
  },
  {
   "cell_type": "markdown",
   "metadata": {},
   "source": [
    "Ainsi, on peut déduire que la plupart des demandeurs ont un revenu **entre 3000 dollars et 6000 dollars**. Le revenu médian est d'environ 4000 dollars et il y a quelque personne ayant des revenus entre 10 000 dollars et 20 000 dollars."
   ]
  },
  {
   "cell_type": "code",
   "execution_count": 24,
   "metadata": {
    "ExecuteTime": {
     "end_time": "2021-02-05T20:29:04.658625Z",
     "start_time": "2021-02-05T20:29:04.573264Z"
    }
   },
   "outputs": [
    {
     "data": {
      "text/plain": [
       "<AxesSubplot:>"
      ]
     },
     "execution_count": 24,
     "metadata": {},
     "output_type": "execute_result"
    },
    {
     "data": {
      "image/png": "[encoded data removed]",
      "text/plain": [
       "<Figure size 432x288 with 1 Axes>"
      ]
     },
     "metadata": {
      "needs_background": "light"
     },
     "output_type": "display_data"
    }
   ],
   "source": [
    "#Boxplot du montant emprunté\n",
    "sns.boxplot(data = credit[\"LoanAmount\"], palette=\"Set3\", orient='h')"
   ]
  },
  {
   "cell_type": "markdown",
   "metadata": {},
   "source": [
    "En moyenne, **les montants empruntés sont compris entre 100 000 dollars et 180 000 dollars**. On constate encore une fois des montants qui se détachent allant jusqu'à 600 000 dollars. "
   ]
  },
  {
   "cell_type": "code",
   "execution_count": 25,
   "metadata": {
    "ExecuteTime": {
     "end_time": "2021-02-05T20:29:04.810171Z",
     "start_time": "2021-02-05T20:29:04.660383Z"
    },
    "scrolled": true
   },
   "outputs": [
    {
     "data": {
      "text/plain": [
       "<AxesSubplot:xlabel='Durée du prêt en mois', ylabel='Nombre'>"
      ]
     },
     "execution_count": 25,
     "metadata": {},
     "output_type": "execute_result"
    },
    {
     "data": {
      "image/png": "[encoded data removed]",
      "text/plain": [
       "<Figure size 432x288 with 1 Axes>"
      ]
     },
     "metadata": {
      "needs_background": "light"
     },
     "output_type": "display_data"
    }
   ],
   "source": [
    "#Barplot sur la durée des prêts\n",
    "Durée = pd.DataFrame(credit[\"Loan_Amount_Term\"].value_counts())\n",
    "Durée.reset_index(inplace=True)\n",
    "Durée.columns = [\"Durée du prêt en mois\", \"Nombre\"]\n",
    "Durée.sort_values(by='Nombre', ascending=False, inplace=True)\n",
    "\n",
    "sns.barplot(x=Durée['Durée du prêt en mois'], y=Durée.Nombre, order = Durée['Durée du prêt en mois'])"
   ]
  },
  {
   "cell_type": "markdown",
   "metadata": {},
   "source": [
    "La grande majorité des prêts ont **une durée de 360 mois (30 ans)** puis 180 mois (15 ans)."
   ]
  },
  {
   "cell_type": "markdown",
   "metadata": {},
   "source": [
    "### 2.3. Data processing"
   ]
  },
  {
   "cell_type": "markdown",
   "metadata": {},
   "source": [
    "Il s'agit dans cette sous partie, de préparer les données afin de les modéliser par la suite. Quelques procédure sont importantes pour rendre la modélisation cohérente et faisable.\n",
    "\n",
    "Tout d'abord, **la transformation des variables qualitatives est importante pour que le modèle distingue correctement les valeurs**. Il faut donc remplacer les valeurs par des entiers, rendre binaire la plupart des variables catégorielles. <br>\n",
    "\n",
    "La première colonne modifiée est celle de la variable expliquée, le statut du dossier."
   ]
  },
  {
   "cell_type": "code",
   "execution_count": 26,
   "metadata": {
    "ExecuteTime": {
     "end_time": "2021-02-05T20:29:04.817303Z",
     "start_time": "2021-02-05T20:29:04.812084Z"
    }
   },
   "outputs": [],
   "source": [
    "#On remplace les valeurs de la colonne par des 0 et 1\n",
    "credit.drop(labels=['Loan_ID'],axis=1, inplace=True)\n",
    "credit['Loan_Status'].replace('Y',1,inplace=True)\n",
    "credit['Loan_Status'].replace('N',0,inplace=True)"
   ]
  },
  {
   "cell_type": "markdown",
   "metadata": {},
   "source": [
    "On fait de même avec les autres colonnes binaires."
   ]
  },
  {
   "cell_type": "code",
   "execution_count": 27,
   "metadata": {
    "ExecuteTime": {
     "end_time": "2021-02-05T20:29:04.835069Z",
     "start_time": "2021-02-05T20:29:04.819281Z"
    },
    "scrolled": true
   },
   "outputs": [
    {
     "data": {
      "text/html": [
       "<div>\n",
       "<style scoped>\n",
       "    .dataframe tbody tr th:only-of-type {\n",
       "        vertical-align: middle;\n",
       "    }\n",
       "\n",
       "    .dataframe tbody tr th {\n",
       "        vertical-align: top;\n",
       "    }\n",
       "\n",
       "    .dataframe thead th {\n",
       "        text-align: right;\n",
       "    }\n",
       "</style>\n",
       "<table border=\"1\" class=\"dataframe\">\n",
       "  <thead>\n",
       "    <tr style=\"text-align: right;\">\n",
       "      <th></th>\n",
       "      <th>Gender</th>\n",
       "      <th>Married</th>\n",
       "      <th>Dependents</th>\n",
       "      <th>Education</th>\n",
       "      <th>Self_Employed</th>\n",
       "      <th>ApplicantIncome</th>\n",
       "      <th>CoapplicantIncome</th>\n",
       "      <th>LoanAmount</th>\n",
       "      <th>Loan_Amount_Term</th>\n",
       "      <th>Credit_History</th>\n",
       "      <th>Property_Area</th>\n",
       "      <th>Loan_Status</th>\n",
       "    </tr>\n",
       "  </thead>\n",
       "  <tbody>\n",
       "    <tr>\n",
       "      <th>0</th>\n",
       "      <td>0</td>\n",
       "      <td>0</td>\n",
       "      <td>0</td>\n",
       "      <td>0</td>\n",
       "      <td>0</td>\n",
       "      <td>5849.0</td>\n",
       "      <td>0.0</td>\n",
       "      <td>128.0</td>\n",
       "      <td>360</td>\n",
       "      <td>1</td>\n",
       "      <td>Urban</td>\n",
       "      <td>1</td>\n",
       "    </tr>\n",
       "    <tr>\n",
       "      <th>1</th>\n",
       "      <td>0</td>\n",
       "      <td>1</td>\n",
       "      <td>1</td>\n",
       "      <td>0</td>\n",
       "      <td>0</td>\n",
       "      <td>4583.0</td>\n",
       "      <td>1508.0</td>\n",
       "      <td>128.0</td>\n",
       "      <td>360</td>\n",
       "      <td>1</td>\n",
       "      <td>Rural</td>\n",
       "      <td>0</td>\n",
       "    </tr>\n",
       "    <tr>\n",
       "      <th>2</th>\n",
       "      <td>0</td>\n",
       "      <td>1</td>\n",
       "      <td>0</td>\n",
       "      <td>0</td>\n",
       "      <td>1</td>\n",
       "      <td>3000.0</td>\n",
       "      <td>0.0</td>\n",
       "      <td>66.0</td>\n",
       "      <td>360</td>\n",
       "      <td>1</td>\n",
       "      <td>Urban</td>\n",
       "      <td>1</td>\n",
       "    </tr>\n",
       "    <tr>\n",
       "      <th>3</th>\n",
       "      <td>0</td>\n",
       "      <td>1</td>\n",
       "      <td>0</td>\n",
       "      <td>1</td>\n",
       "      <td>0</td>\n",
       "      <td>2583.0</td>\n",
       "      <td>2358.0</td>\n",
       "      <td>120.0</td>\n",
       "      <td>360</td>\n",
       "      <td>1</td>\n",
       "      <td>Urban</td>\n",
       "      <td>1</td>\n",
       "    </tr>\n",
       "    <tr>\n",
       "      <th>4</th>\n",
       "      <td>0</td>\n",
       "      <td>0</td>\n",
       "      <td>0</td>\n",
       "      <td>0</td>\n",
       "      <td>0</td>\n",
       "      <td>6000.0</td>\n",
       "      <td>0.0</td>\n",
       "      <td>141.0</td>\n",
       "      <td>360</td>\n",
       "      <td>1</td>\n",
       "      <td>Urban</td>\n",
       "      <td>1</td>\n",
       "    </tr>\n",
       "  </tbody>\n",
       "</table>\n",
       "</div>"
      ],
      "text/plain": [
       "   Gender  Married Dependents  Education  Self_Employed  ApplicantIncome  \\\n",
       "0       0        0          0          0              0           5849.0   \n",
       "1       0        1          1          0              0           4583.0   \n",
       "2       0        1          0          0              1           3000.0   \n",
       "3       0        1          0          1              0           2583.0   \n",
       "4       0        0          0          0              0           6000.0   \n",
       "\n",
       "   CoapplicantIncome  LoanAmount  Loan_Amount_Term  Credit_History  \\\n",
       "0                0.0       128.0               360               1   \n",
       "1             1508.0       128.0               360               1   \n",
       "2                0.0        66.0               360               1   \n",
       "3             2358.0       120.0               360               1   \n",
       "4                0.0       141.0               360               1   \n",
       "\n",
       "  Property_Area  Loan_Status  \n",
       "0         Urban            1  \n",
       "1         Rural            0  \n",
       "2         Urban            1  \n",
       "3         Urban            1  \n",
       "4         Urban            1  "
      ]
     },
     "execution_count": 27,
     "metadata": {},
     "output_type": "execute_result"
    }
   ],
   "source": [
    "#De texte à entier\n",
    "credit.Gender = credit.Gender.replace([\"Male\", \"Female\"], [0, 1])\n",
    "credit.Married = credit.Married.replace([\"No\", \"Yes\"], [0, 1])\n",
    "credit.Education = credit.Education.replace([\"Graduate\", \"Not Graduate\"], [0, 1])\n",
    "credit.Self_Employed = credit.Self_Employed.replace([\"No\", \"Yes\"], [0, 1])\n",
    "credit.head()"
   ]
  },
  {
   "cell_type": "code",
   "execution_count": 28,
   "metadata": {
    "ExecuteTime": {
     "end_time": "2021-02-05T20:29:04.848295Z",
     "start_time": "2021-02-05T20:29:04.836670Z"
    }
   },
   "outputs": [
    {
     "name": "stdout",
     "output_type": "stream",
     "text": [
      "<class 'pandas.core.frame.DataFrame'>\n",
      "Int64Index: 494 entries, 0 to 613\n",
      "Data columns (total 12 columns):\n",
      " #   Column             Non-Null Count  Dtype  \n",
      "---  ------             --------------  -----  \n",
      " 0   Gender             494 non-null    int64  \n",
      " 1   Married            494 non-null    int64  \n",
      " 2   Dependents         494 non-null    object \n",
      " 3   Education          494 non-null    int64  \n",
      " 4   Self_Employed      494 non-null    int64  \n",
      " 5   ApplicantIncome    494 non-null    float64\n",
      " 6   CoapplicantIncome  494 non-null    float64\n",
      " 7   LoanAmount         494 non-null    float64\n",
      " 8   Loan_Amount_Term   494 non-null    int64  \n",
      " 9   Credit_History     494 non-null    int64  \n",
      " 10  Property_Area      494 non-null    object \n",
      " 11  Loan_Status        494 non-null    int64  \n",
      "dtypes: float64(3), int64(7), object(2)\n",
      "memory usage: 66.3+ KB\n"
     ]
    }
   ],
   "source": [
    "#Information sur le dataframe\n",
    "credit.info()"
   ]
  },
  {
   "cell_type": "markdown",
   "metadata": {},
   "source": [
    "On constate beaucoup moins de colonnes de type \"object\"."
   ]
  },
  {
   "cell_type": "code",
   "execution_count": 29,
   "metadata": {
    "ExecuteTime": {
     "end_time": "2021-02-05T20:29:04.853631Z",
     "start_time": "2021-02-05T20:29:04.849797Z"
    }
   },
   "outputs": [
    {
     "name": "stdout",
     "output_type": "stream",
     "text": [
      "['0' '1' '2' '3+']\n",
      "['Urban' 'Rural' 'Semiurban']\n"
     ]
    }
   ],
   "source": [
    "#Un rappel des valeurs unique pour les colonnes \"dependents\" et \"property area\"\n",
    "print(credit.Dependents.unique())\n",
    "print(credit.Property_Area.unique())"
   ]
  },
  {
   "cell_type": "markdown",
   "metadata": {},
   "source": [
    "Pour finir le data processing, il faut s'occuper des colonnes avec plus de deux valeurs qualitatives. Pour cela, le module ```LabelEncoder``` est puissant, il va définir une valeur (un entier) pour chaque différente valeur de la colonne. \n",
    "> Ainsi Urban, Rural, Semiurban deviendra 1, 2, 3. <br>\n",
    "\n",
    "La méthode utilisée est appelée \"One hot encoding\" : transformer les valeurs \"texte\" en valeurs booléennes. "
   ]
  },
  {
   "cell_type": "code",
   "execution_count": 30,
   "metadata": {
    "ExecuteTime": {
     "end_time": "2021-02-05T20:29:04.868339Z",
     "start_time": "2021-02-05T20:29:04.855520Z"
    }
   },
   "outputs": [
    {
     "data": {
      "text/html": [
       "<div>\n",
       "<style scoped>\n",
       "    .dataframe tbody tr th:only-of-type {\n",
       "        vertical-align: middle;\n",
       "    }\n",
       "\n",
       "    .dataframe tbody tr th {\n",
       "        vertical-align: top;\n",
       "    }\n",
       "\n",
       "    .dataframe thead th {\n",
       "        text-align: right;\n",
       "    }\n",
       "</style>\n",
       "<table border=\"1\" class=\"dataframe\">\n",
       "  <thead>\n",
       "    <tr style=\"text-align: right;\">\n",
       "      <th></th>\n",
       "      <th>Gender</th>\n",
       "      <th>Married</th>\n",
       "      <th>Dependents</th>\n",
       "      <th>Education</th>\n",
       "      <th>Self_Employed</th>\n",
       "      <th>ApplicantIncome</th>\n",
       "      <th>CoapplicantIncome</th>\n",
       "      <th>LoanAmount</th>\n",
       "      <th>Loan_Amount_Term</th>\n",
       "      <th>Credit_History</th>\n",
       "      <th>Property_Area</th>\n",
       "      <th>Loan_Status</th>\n",
       "    </tr>\n",
       "  </thead>\n",
       "  <tbody>\n",
       "    <tr>\n",
       "      <th>388</th>\n",
       "      <td>0</td>\n",
       "      <td>1</td>\n",
       "      <td>0</td>\n",
       "      <td>0</td>\n",
       "      <td>0</td>\n",
       "      <td>2333.0</td>\n",
       "      <td>2417.0</td>\n",
       "      <td>136.0</td>\n",
       "      <td>360</td>\n",
       "      <td>1</td>\n",
       "      <td>2</td>\n",
       "      <td>1</td>\n",
       "    </tr>\n",
       "    <tr>\n",
       "      <th>26</th>\n",
       "      <td>0</td>\n",
       "      <td>1</td>\n",
       "      <td>0</td>\n",
       "      <td>0</td>\n",
       "      <td>0</td>\n",
       "      <td>2799.0</td>\n",
       "      <td>2253.0</td>\n",
       "      <td>122.0</td>\n",
       "      <td>360</td>\n",
       "      <td>1</td>\n",
       "      <td>1</td>\n",
       "      <td>1</td>\n",
       "    </tr>\n",
       "    <tr>\n",
       "      <th>526</th>\n",
       "      <td>0</td>\n",
       "      <td>1</td>\n",
       "      <td>0</td>\n",
       "      <td>0</td>\n",
       "      <td>0</td>\n",
       "      <td>3775.0</td>\n",
       "      <td>0.0</td>\n",
       "      <td>110.0</td>\n",
       "      <td>360</td>\n",
       "      <td>1</td>\n",
       "      <td>1</td>\n",
       "      <td>1</td>\n",
       "    </tr>\n",
       "  </tbody>\n",
       "</table>\n",
       "</div>"
      ],
      "text/plain": [
       "     Gender  Married  Dependents  Education  Self_Employed  ApplicantIncome  \\\n",
       "388       0        1           0          0              0           2333.0   \n",
       "26        0        1           0          0              0           2799.0   \n",
       "526       0        1           0          0              0           3775.0   \n",
       "\n",
       "     CoapplicantIncome  LoanAmount  Loan_Amount_Term  Credit_History  \\\n",
       "388             2417.0       136.0               360               1   \n",
       "26              2253.0       122.0               360               1   \n",
       "526                0.0       110.0               360               1   \n",
       "\n",
       "     Property_Area  Loan_Status  \n",
       "388              2            1  \n",
       "26               1            1  \n",
       "526              1            1  "
      ]
     },
     "execution_count": 30,
     "metadata": {},
     "output_type": "execute_result"
    }
   ],
   "source": [
    "#One hot encoding\n",
    "label=LabelEncoder()\n",
    "credit['Property_Area']=label.fit_transform(credit['Property_Area'])\n",
    "credit['Dependents']=label.fit_transform(credit['Dependents'])\n",
    "credit.sample(3)"
   ]
  },
  {
   "cell_type": "markdown",
   "metadata": {},
   "source": [
    "Pour finir, regarder les corrélations entre les variables est très intéressant et apporte des observations utiles pour la suite. <br>\n",
    "Pour cela, la fonction ```corr``` marche parfaitement, accompagnée de la ```heatmap``` de seaborn."
   ]
  },
  {
   "cell_type": "code",
   "execution_count": 31,
   "metadata": {
    "ExecuteTime": {
     "end_time": "2021-02-05T20:29:05.190177Z",
     "start_time": "2021-02-05T20:29:04.870779Z"
    }
   },
   "outputs": [
    {
     "data": {
      "image/png": "[encoded data removed]",
      "text/plain": [
       "<Figure size 1440x1080 with 2 Axes>"
      ]
     },
     "metadata": {
      "needs_background": "light"
     },
     "output_type": "display_data"
    }
   ],
   "source": [
    "#Matrice de corrélation\n",
    "corr = credit.corr()\n",
    "\n",
    "fig, ax = plt.subplots(figsize=(20, 15))\n",
    "sns.heatmap(corr, \n",
    "            xticklabels=corr.columns.values,\n",
    "            yticklabels=corr.columns.values,\n",
    "            cmap=\"YlGnBu\")\n",
    "plt.show()"
   ]
  },
  {
   "cell_type": "markdown",
   "metadata": {},
   "source": [
    "Ce qui est le plus intéressant à regarder est la ligne ou colonne concernant le statut du crédit car elle met en avant les corrélations entre ce dernier et les autres variables. Plus la couleur est foncée, plus la corrélation est présente. **L'historique de crédit est une nouvelle fois la variable importante de cette analyse**."
   ]
  },
  {
   "cell_type": "markdown",
   "metadata": {},
   "source": [
    "---"
   ]
  },
  {
   "cell_type": "markdown",
   "metadata": {},
   "source": [
    "## 3. Prédiction et modélisation"
   ]
  },
  {
   "cell_type": "markdown",
   "metadata": {},
   "source": [
    "### 3.1 Modélisation du problème à partir d'une régression logistique"
   ]
  },
  {
   "cell_type": "markdown",
   "metadata": {},
   "source": [
    "Passons maintenant à la partie prédictive de l'étude, l'objectif est de modéliser la situation afin d'obtenir des résultats escomptés si tant est que ces résultats soient possibles. En effet, tout dépend de la significativité des variables du modèle, ce que l'on cherche c'est à créer un modèle prédisant le statut final du dossier de prêt.\n",
    "\n",
    "Pour cela, le modèle va utiliser les variables, dites, explicatives afin de trouver la meilleure combinaison et prédire le plus précisément le statut final du dossier.\n",
    "\n",
    "La modélisation commence en séparant en deux le dataset, d'une partie, on retrouvera la variable expliquée \"Y\" et de l'autre les variables explicatives \"X\". Par la suite, il est très important de distinguer les données d'apprentissage avec les données de test pour ne pas sur-estimer la puissance du modèle et ke tester sur des variables utilisées dans l'apprentissage. Ainsi, la fonction ```train_test_split``` va séparer chaque partie en deux (train et test)."
   ]
  },
  {
   "cell_type": "code",
   "execution_count": 32,
   "metadata": {
    "ExecuteTime": {
     "end_time": "2021-02-05T20:29:05.197532Z",
     "start_time": "2021-02-05T20:29:05.192049Z"
    }
   },
   "outputs": [],
   "source": [
    "#Séparation du dataset\n",
    "y = credit['Loan_Status']\n",
    "X = credit.drop('Loan_Status', axis = 1)\n",
    "\n",
    "X_train, X_test, y_train, y_test = train_test_split(X, y, test_size = 0.3, random_state = 0)"
   ]
  },
  {
   "cell_type": "markdown",
   "metadata": {},
   "source": [
    "Ensuite, il s'agit d'entrainer le modèle choisit, en l'occurrence ce sera une régression logistique. Pour ce faire, la librarie scikit-learn possède une fonction ```LogisticRegression``` permettant d'importer un modèle de régression dans le but de l'entrainer sur les données proposées. Une fois importer, il faut \"fit\" le modèle c'est à dire estimer les meilleurs paramètres selon les données ce qui constituera le nouveau modèle de prédiction à utiliser sur les données de test.\n",
    "\n",
    "La dernière étape correspond à l'évaluation, on va prédire les valeurs sur la base de test et comparer les résultats avec les vraies valeur de \"Y\" (dans \"y_test\")."
   ]
  },
  {
   "cell_type": "code",
   "execution_count": 33,
   "metadata": {
    "ExecuteTime": {
     "end_time": "2021-02-05T20:29:05.238271Z",
     "start_time": "2021-02-05T20:29:05.199415Z"
    }
   },
   "outputs": [
    {
     "name": "stdout",
     "output_type": "stream",
     "text": [
      "              precision    recall  f1-score   support\n",
      "\n",
      "           0       0.81      0.50      0.62        44\n",
      "           1       0.82      0.95      0.88       105\n",
      "\n",
      "    accuracy                           0.82       149\n",
      "   macro avg       0.82      0.73      0.75       149\n",
      "weighted avg       0.82      0.82      0.80       149\n",
      "\n",
      "81.88% de précision\n"
     ]
    }
   ],
   "source": [
    "#Régression logistique\n",
    "LR = LogisticRegression()\n",
    "#Estimation\n",
    "LR.fit(X_train, y_train)\n",
    "\n",
    "#Prediction\n",
    "y_predict = LR.predict(X_test)\n",
    "print(classification_report(y_test, y_predict))\n",
    "\n",
    "#Evaluation\n",
    "LR_SC = accuracy_score(y_predict,y_test)\n",
    "print(f\"{round(LR_SC*100,2)}% de précision\")"
   ]
  },
  {
   "cell_type": "markdown",
   "metadata": {},
   "source": [
    "Différentes données d'évaluation ressortent via la fonction ```accuracy_score```, dont la précision. Dans ce cas, elle est de 82%, cependant, il ne faut pas prendre ce résultat comme acquis mais plutôt regarder de près tous les autres. En effet, ces scores d'évaluation reflètent la manière dont la modèle à prédit les bonnes valeurs mais aussi les mauvaises: Vrai positif, Faux positif, Vrai négatif et Faux négatif.\n",
    "\n",
    "Ici on constate différentes mesures : **la précision, le recall et le f1-score**. Chacune concerne la partie positive (1) ou négative (0). Le recall, par exemple, correspond à la part de Vrais positifs dans le total des positifs (positif dans le vrai dataset y_test). La précision, correspond elle, a la part de Vrais positifs dans le total des positifs prédits (donc en partie dans les faux positifs, mauvaises prédictions).\n",
    "\n",
    "On observe que les **Vrais positifs sont plutôt bien répartis** donc qu'il y a peu de faux négatifs. Par contre, **la prédiction du statut No est, elle, moins bonne (recall 0 à 0,50)**. Cela veut dire qu'il y a eu peu de mauvaises\n",
    "prédictions positives mais que par conséquent, les prédictions négatives ont été mauvaises."
   ]
  },
  {
   "cell_type": "code",
   "execution_count": 34,
   "metadata": {
    "ExecuteTime": {
     "end_time": "2021-02-05T20:29:05.249494Z",
     "start_time": "2021-02-05T20:29:05.240485Z"
    }
   },
   "outputs": [
    {
     "data": {
      "text/html": [
       "<div>\n",
       "<style scoped>\n",
       "    .dataframe tbody tr th:only-of-type {\n",
       "        vertical-align: middle;\n",
       "    }\n",
       "\n",
       "    .dataframe tbody tr th {\n",
       "        vertical-align: top;\n",
       "    }\n",
       "\n",
       "    .dataframe thead th {\n",
       "        text-align: right;\n",
       "    }\n",
       "</style>\n",
       "<table border=\"1\" class=\"dataframe\">\n",
       "  <thead>\n",
       "    <tr style=\"text-align: right;\">\n",
       "      <th></th>\n",
       "      <th>0</th>\n",
       "      <th>1</th>\n",
       "    </tr>\n",
       "  </thead>\n",
       "  <tbody>\n",
       "    <tr>\n",
       "      <th>0</th>\n",
       "      <td>22</td>\n",
       "      <td>22</td>\n",
       "    </tr>\n",
       "    <tr>\n",
       "      <th>1</th>\n",
       "      <td>5</td>\n",
       "      <td>100</td>\n",
       "    </tr>\n",
       "  </tbody>\n",
       "</table>\n",
       "</div>"
      ],
      "text/plain": [
       "    0    1\n",
       "0  22   22\n",
       "1   5  100"
      ]
     },
     "execution_count": 34,
     "metadata": {},
     "output_type": "execute_result"
    }
   ],
   "source": [
    "#Matrice de confusion\n",
    "confusion_matrix = metrics.confusion_matrix(y_test, y_predict, labels=[0,1])\n",
    "pd.DataFrame(confusion_matrix)"
   ]
  },
  {
   "cell_type": "markdown",
   "metadata": {},
   "source": [
    "On constate grâce à la fonction de matrice de confusion qui crée une matrice mêlant les FP, TP, FN et FP, que le nombre de faux positifs est élevé, 22. Cela veut dire que parmi les vrai négatifs de y_test, la moitité a été mal prédite. Il faut donc essayer d'améliorer le modèle afin qu'il fasse moins d'erreurs à ce niveau la."
   ]
  },
  {
   "cell_type": "markdown",
   "metadata": {},
   "source": [
    "### 3.2 Modification des données d'apprentissage afin d'améliorer le modèle"
   ]
  },
  {
   "cell_type": "markdown",
   "metadata": {},
   "source": [
    "Pour améliorer le modèle, une possibilité est de regarder tout d'abord, la significativité des coefficients créés par la régression. Pour cela, la librairie statsmodels possède une fonction ```summary``` qui donne beaucoup d'information concernant les variables explicatives."
   ]
  },
  {
   "cell_type": "code",
   "execution_count": 35,
   "metadata": {
    "ExecuteTime": {
     "end_time": "2021-02-05T20:29:05.295132Z",
     "start_time": "2021-02-05T20:29:05.251659Z"
    }
   },
   "outputs": [
    {
     "name": "stdout",
     "output_type": "stream",
     "text": [
      "Optimization terminated successfully.\n",
      "         Current function value: 0.476672\n",
      "         Iterations 6\n",
      "                         Results: Logit\n",
      "=================================================================\n",
      "Model:              Logit            Pseudo R-squared: 0.236     \n",
      "Dependent Variable: Loan_Status      AIC:              492.9521  \n",
      "Date:               2021-02-05 21:29 BIC:              539.1799  \n",
      "No. Observations:   494              Log-Likelihood:   -235.48   \n",
      "Df Model:           10               LL-Null:          -308.09   \n",
      "Df Residuals:       483              LLR p-value:      3.5820e-26\n",
      "Converged:          1.0000           Scale:            1.0000    \n",
      "No. Iterations:     6.0000                                       \n",
      "-----------------------------------------------------------------\n",
      "                   Coef.  Std.Err.    z    P>|z|   [0.025  0.975]\n",
      "-----------------------------------------------------------------\n",
      "Gender            -0.2654   0.3163 -0.8388 0.4016 -0.8854  0.3547\n",
      "Married            0.4627   0.2706  1.7097 0.0873 -0.0677  0.9931\n",
      "Dependents         0.0144   0.1270  0.1133 0.9098 -0.2345  0.2633\n",
      "Education         -0.7179   0.2770 -2.5918 0.0095 -1.2609 -0.1750\n",
      "Self_Employed     -0.0396   0.3444 -0.1150 0.9084 -0.7146  0.6353\n",
      "ApplicantIncome   -0.0000   0.0000 -0.7300 0.4654 -0.0001  0.0001\n",
      "CoapplicantIncome -0.0001   0.0000 -1.4208 0.1554 -0.0001  0.0000\n",
      "LoanAmount        -0.0032   0.0019 -1.6310 0.1029 -0.0070  0.0006\n",
      "Loan_Amount_Term  -0.0037   0.0012 -3.1517 0.0016 -0.0060 -0.0014\n",
      "Credit_History     3.3453   0.3743  8.9376 0.0000  2.6117  4.0789\n",
      "Property_Area     -0.0993   0.1456 -0.6821 0.4952 -0.3847  0.1861\n",
      "=================================================================\n",
      "\n"
     ]
    }
   ],
   "source": [
    "#Nouvelle régression et \"summary\"\n",
    "logit_model=sm.Logit(y,X)\n",
    "result=logit_model.fit()\n",
    "print(result.summary2())"
   ]
  },
  {
   "cell_type": "markdown",
   "metadata": {},
   "source": [
    "On constate facilement que beaucoup de variables ont des coefficients non significativement différents de 0 (p value supérieure à 5%). Ainsi, il serait pertinent de garder les seules variables cohérentes."
   ]
  },
  {
   "cell_type": "code",
   "execution_count": 36,
   "metadata": {
    "ExecuteTime": {
     "end_time": "2021-02-05T20:29:05.324962Z",
     "start_time": "2021-02-05T20:29:05.297082Z"
    }
   },
   "outputs": [
    {
     "name": "stdout",
     "output_type": "stream",
     "text": [
      "Optimization terminated successfully.\n",
      "         Current function value: 0.491486\n",
      "         Iterations 6\n",
      "                         Results: Logit\n",
      "=================================================================\n",
      "Model:              Logit            Pseudo R-squared: 0.212     \n",
      "Dependent Variable: Loan_Status      AIC:              491.5882  \n",
      "Date:               2021-02-05 21:29 BIC:              504.1959  \n",
      "No. Observations:   494              Log-Likelihood:   -242.79   \n",
      "Df Model:           2                LL-Null:          -308.09   \n",
      "Df Residuals:       491              LLR p-value:      4.4088e-29\n",
      "Converged:          1.0000           Scale:            1.0000    \n",
      "No. Iterations:     6.0000                                       \n",
      "-----------------------------------------------------------------\n",
      "                   Coef.  Std.Err.    z    P>|z|   [0.025  0.975]\n",
      "-----------------------------------------------------------------\n",
      "Education         -0.5158   0.2649 -1.9473 0.0515 -1.0349  0.0033\n",
      "Loan_Amount_Term  -0.0052   0.0010 -5.3792 0.0000 -0.0070 -0.0033\n",
      "Credit_History     3.2151   0.3589  8.9577 0.0000  2.5116  3.9185\n",
      "=================================================================\n",
      "\n"
     ]
    }
   ],
   "source": [
    "#Suppression des variables non significatives et nouveau summary\n",
    "cols=[\"Education\", \"Loan_Amount_Term\", \"Credit_History\"] \n",
    "X=credit[cols]\n",
    "y=credit['Loan_Status']\n",
    "logit_model=sm.Logit(y,X)\n",
    "result=logit_model.fit()\n",
    "print(result.summary2())"
   ]
  },
  {
   "cell_type": "markdown",
   "metadata": {},
   "source": [
    "Le modèle à légèrement gagné en efficacité (AIC plus faible), cependant on constate que la variable éducation est devenue non significative. On décide tout de même de la conserver.\n",
    "\n",
    "Une autre possibilité d'amélioration est d'ajouter des variables en les redéfinissant, c'est à dire en binéarisant une variable qui ne le serait. Par exemple, la variable concernant le revenu de la personne peut être divisée en plusieurs variables (haut revenu, bas revenu...)."
   ]
  },
  {
   "cell_type": "code",
   "execution_count": 37,
   "metadata": {
    "ExecuteTime": {
     "end_time": "2021-02-05T20:29:05.335334Z",
     "start_time": "2021-02-05T20:29:05.327032Z"
    },
    "scrolled": false
   },
   "outputs": [
    {
     "data": {
      "text/plain": [
       "count      494.000000\n",
       "mean      4921.087045\n",
       "std       3401.004105\n",
       "min        150.000000\n",
       "25%       2877.500000\n",
       "50%       3848.000000\n",
       "75%       5811.250000\n",
       "max      20667.000000\n",
       "Name: ApplicantIncome, dtype: float64"
      ]
     },
     "execution_count": 37,
     "metadata": {},
     "output_type": "execute_result"
    }
   ],
   "source": [
    "#Description de la colonne des revenus\n",
    "credit[\"ApplicantIncome\"].describe()"
   ]
  },
  {
   "cell_type": "code",
   "execution_count": 38,
   "metadata": {
    "ExecuteTime": {
     "end_time": "2021-02-05T20:29:05.349123Z",
     "start_time": "2021-02-05T20:29:05.337320Z"
    }
   },
   "outputs": [],
   "source": [
    "#Division de la variable revenu en 4\n",
    "credit[\"FaibleRevenu\"] = credit[\"ApplicantIncome\"] <= 2877.500000 \n",
    "credit[\"MoyenRevenu1\"] = (credit[\"ApplicantIncome\"] > 2877.500000) & (credit[\"ApplicantIncome\"] <= 3848.000000)\n",
    "credit[\"MoyenRevenu2\"] = (credit[\"ApplicantIncome\"] > 3848.000000) & (credit[\"ApplicantIncome\"] <= 5811.250000)\n",
    "credit[\"HautRevenu\"] = credit[\"ApplicantIncome\"] > 5811.250000 \n",
    "\n",
    "credit.FaibleRevenu = credit.FaibleRevenu.replace([False, True], [0, 1])\n",
    "credit.MoyenRevenu1 = credit.MoyenRevenu1.replace([False, True], [0, 1])\n",
    "credit.MoyenRevenu2 = credit.MoyenRevenu2.replace([False, True], [0, 1])\n",
    "credit.HautRevenu = credit.HautRevenu.replace([False, True], [0, 1])"
   ]
  },
  {
   "cell_type": "code",
   "execution_count": 39,
   "metadata": {
    "ExecuteTime": {
     "end_time": "2021-02-05T20:29:05.360742Z",
     "start_time": "2021-02-05T20:29:05.351455Z"
    },
    "scrolled": false
   },
   "outputs": [
    {
     "data": {
      "text/plain": [
       "Gender               0\n",
       "Married              0\n",
       "Dependents           0\n",
       "Education            0\n",
       "Self_Employed        0\n",
       "ApplicantIncome      0\n",
       "CoapplicantIncome    0\n",
       "LoanAmount           0\n",
       "Loan_Amount_Term     0\n",
       "Credit_History       0\n",
       "Property_Area        0\n",
       "Loan_Status          0\n",
       "FaibleRevenu         0\n",
       "MoyenRevenu1         0\n",
       "MoyenRevenu2         0\n",
       "HautRevenu           0\n",
       "dtype: int64"
      ]
     },
     "execution_count": 39,
     "metadata": {},
     "output_type": "execute_result"
    }
   ],
   "source": [
    "#Suppression des valeurs nulles\n",
    "credit.dropna(inplace=True)\n",
    "credit.isnull().sum()"
   ]
  },
  {
   "cell_type": "code",
   "execution_count": 40,
   "metadata": {
    "ExecuteTime": {
     "end_time": "2021-02-05T20:29:05.394474Z",
     "start_time": "2021-02-05T20:29:05.362790Z"
    }
   },
   "outputs": [
    {
     "name": "stdout",
     "output_type": "stream",
     "text": [
      "Optimization terminated successfully.\n",
      "         Current function value: 0.481305\n",
      "         Iterations 6\n",
      "                         Results: Logit\n",
      "=================================================================\n",
      "Model:              Logit            Pseudo R-squared: 0.228     \n",
      "Dependent Variable: Loan_Status      AIC:              489.5291  \n",
      "Date:               2021-02-05 21:29 BIC:              518.9469  \n",
      "No. Observations:   494              Log-Likelihood:   -237.76   \n",
      "Df Model:           6                LL-Null:          -308.09   \n",
      "Df Residuals:       487              LLR p-value:      7.3367e-28\n",
      "Converged:          1.0000           Scale:            1.0000    \n",
      "No. Iterations:     6.0000                                       \n",
      "-----------------------------------------------------------------\n",
      "                   Coef.  Std.Err.    z    P>|z|   [0.025  0.975]\n",
      "-----------------------------------------------------------------\n",
      "Education         -0.4277   0.2806 -1.5244 0.1274 -0.9777  0.1222\n",
      "Loan_Amount_Term  -0.0003   0.0018 -0.1673 0.8672 -0.0038  0.0032\n",
      "Credit_History     3.7177   0.4448  8.3584 0.0000  2.8459  4.5894\n",
      "FaibleRevenu      -2.1003   0.7941 -2.6450 0.0082 -3.6567 -0.5440\n",
      "MoyenRevenu1      -2.0876   0.7708 -2.7084 0.0068 -3.5983 -0.5769\n",
      "MoyenRevenu2      -2.2218   0.7890 -2.8161 0.0049 -3.7681 -0.6754\n",
      "HautRevenu        -2.4284   0.7758 -3.1302 0.0017 -3.9489 -0.9079\n",
      "=================================================================\n",
      "\n"
     ]
    }
   ],
   "source": [
    "#Nouveau summary avec les nouvelles variables\n",
    "cols=[\"Education\", \"Loan_Amount_Term\", \"Credit_History\", \"FaibleRevenu\", \"MoyenRevenu1\",\n",
    "     \"MoyenRevenu2\", \"HautRevenu\"] \n",
    "X=credit[cols]\n",
    "y=credit['Loan_Status']\n",
    "logit_model=sm.Logit(y,X)\n",
    "result=logit_model.fit()\n",
    "print(result.summary2())"
   ]
  },
  {
   "cell_type": "markdown",
   "metadata": {},
   "source": [
    "On observe une légère amélioration du modèle ainsi que la significativité des variables créées. Les coefficients de ces variables ne sont pas très cohérent au vu de ce à quoi ils réfèrent."
   ]
  },
  {
   "cell_type": "code",
   "execution_count": 41,
   "metadata": {
    "ExecuteTime": {
     "end_time": "2021-02-05T20:29:05.402166Z",
     "start_time": "2021-02-05T20:29:05.396660Z"
    }
   },
   "outputs": [],
   "source": [
    "#Re séparation du nouveau dataset\n",
    "X_train, X_test, y_train, y_test = train_test_split(X, y, test_size = 0.3, random_state = 0)"
   ]
  },
  {
   "cell_type": "code",
   "execution_count": 42,
   "metadata": {
    "ExecuteTime": {
     "end_time": "2021-02-05T20:29:05.441246Z",
     "start_time": "2021-02-05T20:29:05.404123Z"
    }
   },
   "outputs": [
    {
     "name": "stdout",
     "output_type": "stream",
     "text": [
      "              precision    recall  f1-score   support\n",
      "\n",
      "           0       0.91      0.48      0.63        44\n",
      "           1       0.82      0.98      0.89       105\n",
      "\n",
      "    accuracy                           0.83       149\n",
      "   macro avg       0.87      0.73      0.76       149\n",
      "weighted avg       0.85      0.83      0.81       149\n",
      "\n",
      "83.22% de précision\n"
     ]
    }
   ],
   "source": [
    "#Nouveau modèle\n",
    "LR = LogisticRegression()\n",
    "#Estimation\n",
    "LR.fit(X_train, y_train)\n",
    "\n",
    "#Prédiction\n",
    "y_predict = LR.predict(X_test)\n",
    "print(classification_report(y_test, y_predict))\n",
    "\n",
    "#Evaluation\n",
    "LR_SC = accuracy_score(y_predict,y_test)\n",
    "print(f\"{round(LR_SC*100,2)}% de précision\")"
   ]
  },
  {
   "cell_type": "markdown",
   "metadata": {},
   "source": [
    "Le modèle est effectivement plus précis mais si d'un coté **on gagne en \"precision\"**, de l'autre, **on perd en \"recall\" négatif**, ce qui était le contraire de l'objectif de départ."
   ]
  },
  {
   "cell_type": "code",
   "execution_count": 43,
   "metadata": {
    "ExecuteTime": {
     "end_time": "2021-02-05T20:29:05.450655Z",
     "start_time": "2021-02-05T20:29:05.442933Z"
    }
   },
   "outputs": [
    {
     "data": {
      "text/html": [
       "<div>\n",
       "<style scoped>\n",
       "    .dataframe tbody tr th:only-of-type {\n",
       "        vertical-align: middle;\n",
       "    }\n",
       "\n",
       "    .dataframe tbody tr th {\n",
       "        vertical-align: top;\n",
       "    }\n",
       "\n",
       "    .dataframe thead th {\n",
       "        text-align: right;\n",
       "    }\n",
       "</style>\n",
       "<table border=\"1\" class=\"dataframe\">\n",
       "  <thead>\n",
       "    <tr style=\"text-align: right;\">\n",
       "      <th></th>\n",
       "      <th>0</th>\n",
       "      <th>1</th>\n",
       "    </tr>\n",
       "  </thead>\n",
       "  <tbody>\n",
       "    <tr>\n",
       "      <th>0</th>\n",
       "      <td>21</td>\n",
       "      <td>23</td>\n",
       "    </tr>\n",
       "    <tr>\n",
       "      <th>1</th>\n",
       "      <td>2</td>\n",
       "      <td>103</td>\n",
       "    </tr>\n",
       "  </tbody>\n",
       "</table>\n",
       "</div>"
      ],
      "text/plain": [
       "    0    1\n",
       "0  21   23\n",
       "1   2  103"
      ]
     },
     "execution_count": 43,
     "metadata": {},
     "output_type": "execute_result"
    }
   ],
   "source": [
    "#Matrice de confusion\n",
    "confusion_matrix = metrics.confusion_matrix(y_test, y_predict, labels=[0,1])\n",
    "pd.DataFrame(confusion_matrix)"
   ]
  },
  {
   "cell_type": "markdown",
   "metadata": {},
   "source": [
    "Effectivement, **le nombre de Vrais positifs s'est amélioré** tandis que **le nombre de Faux positifs s'est dégradé**."
   ]
  },
  {
   "cell_type": "markdown",
   "metadata": {},
   "source": [
    "## 4. Conclusion"
   ]
  },
  {
   "cell_type": "markdown",
   "metadata": {},
   "source": [
    "Pour conclure, le jeu de données utilisé est un jeu de donnée intéressant du point de vue des variables qu'il met en avant. Il pose problème sur le fait qu'il n'est pas très vaste et donc ne permet pas l'amélioration réelle du moèdle. De plus, une seule réelle variable explicative sort du lot en montrant une corrélation significative et cela est compliqué pour arriver à des prédiction correctes. Globalement, il manque de données même si le modèle pourrait être améliorer en modifiant les paramètres ou en changeant l'algorithme d'apprentissage lui même (forêt aléatoire, arbre de décisions...)."
   ]
  }
 ],
 "metadata": {
  "kernelspec": {
   "display_name": "Python 3",
   "language": "python",
   "name": "python3"
  },
  "language_info": {
   "codemirror_mode": {
    "name": "ipython",
    "version": 3
   },
   "file_extension": ".py",
   "mimetype": "text/x-python",
   "name": "python",
   "nbconvert_exporter": "python",
   "pygments_lexer": "ipython3",
   "version": "3.8.5"
  },
  "toc": {
   "base_numbering": 1,
   "nav_menu": {},
   "number_sections": false,
   "sideBar": true,
   "skip_h1_title": true,
   "title_cell": "Table of Contents",
   "title_sidebar": "Contents",
   "toc_cell": false,
   "toc_position": {
    "height": "calc(100% - 180px)",
    "left": "10px",
    "top": "150px",
    "width": "384px"
   },
   "toc_section_display": true,
   "toc_window_display": false
  },
  "varInspector": {
   "cols": {
    "lenName": 16,
    "lenType": 16,
    "lenVar": 40
   },
   "kernels_config": {
    "python": {
     "delete_cmd_postfix": "",
     "delete_cmd_prefix": "del ",
     "library": "var_list.py",
     "varRefreshCmd": "print(var_dic_list())"
    },
    "r": {
     "delete_cmd_postfix": ") ",
     "delete_cmd_prefix": "rm(",
     "library": "var_list.r",
     "varRefreshCmd": "cat(var_dic_list()) "
    }
   },
   "types_to_exclude": [
    "module",
    "function",
    "builtin_function_or_method",
    "instance",
    "_Feature"
   ],
   "window_display": false
  }
 },
 "nbformat": 4,
 "nbformat_minor": 4
}
